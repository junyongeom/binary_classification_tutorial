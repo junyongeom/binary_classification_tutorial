{
 "cells": [
  {
   "cell_type": "markdown",
   "id": "74c43fe3",
   "metadata": {},
   "source": [
    "## Binary classification tutorial\n",
    "### LOS / NLOS classification "
   ]
  },
  {
   "cell_type": "markdown",
   "id": "fab37f30",
   "metadata": {},
   "source": [
    "This is a binary classification tutorial for beginners.  \n",
    "Our goal is to classify whether UWB samples are collected in LOS or NLOS environments."
   ]
  },
  {
   "cell_type": "markdown",
   "id": "5eb6580e",
   "metadata": {},
   "source": [
    "#### 1. Data Loading"
   ]
  },
  {
   "cell_type": "markdown",
   "id": "7aabc87d",
   "metadata": {},
   "source": []
  }
 ],
 "metadata": {
  "kernelspec": {
   "display_name": "Python 3.7.0 ('py37tf26')",
   "language": "python",
   "name": "python3"
  },
  "language_info": {
   "codemirror_mode": {
    "name": "ipython",
    "version": 3
   },
   "file_extension": ".py",
   "mimetype": "text/x-python",
   "name": "python",
   "nbconvert_exporter": "python",
   "pygments_lexer": "ipython3",
   "version": "3.7.0"
  },
  "vscode": {
   "interpreter": {
    "hash": "61a4f500e7ec5f7014ea4e00ee932b24da946ecd0eeccb4bec8e26ec391c4ccd"
   }
  }
 },
 "nbformat": 4,
 "nbformat_minor": 5
}
