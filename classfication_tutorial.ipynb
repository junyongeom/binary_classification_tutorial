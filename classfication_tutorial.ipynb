{
 "cells": [
  {
   "cell_type": "markdown",
   "id": "74c43fe3",
   "metadata": {},
   "source": [
    "## Binary classification tutorial\n",
    "### LOS / NLOS classification "
   ]
  },
  {
   "cell_type": "markdown",
   "id": "fab37f30",
   "metadata": {},
   "source": [
    "This is a binary classification tutorial for beginners.  \n",
    "Our goal is to classify whether UWB samples were collected in LOS or NLOS environments."
   ]
  },
  {
   "cell_type": "markdown",
   "id": "5eb6580e",
   "metadata": {},
   "source": [
    "#### 1. Dataset\n",
    "First, lets load all the dataset files from the dataset directory."
   ]
  },
  {
   "cell_type": "code",
   "execution_count": 11,
   "id": "7aabc87d",
   "metadata": {},
   "outputs": [
    {
     "name": "stdout",
     "output_type": "stream",
     "text": [
      "Files in dataset directory:\n",
      " ['./dataset/uwb_dataset_part6.csv', './dataset/uwb_dataset_part3.csv', './dataset/uwb_dataset_part1.csv', './dataset/uwb_dataset_part7.csv', './dataset/uwb_dataset_part2.csv', './dataset/uwb_dataset_part5.csv', './dataset/uwb_dataset_part4.csv']\n"
     ]
    }
   ],
   "source": [
    "import pandas as pd\n",
    "import glob\n",
    "\n",
    "files = glob.glob('./dataset/*.csv')\n",
    "print('Files in dataset directory:\\n', files)\n",
    "datasets = []\n",
    "for file in files:\n",
    "    dataset = pd.read_csv(file)\n",
    "    datasets.append(dataset)\n",
    "raw_dataset = pd.concat(datasets)"
   ]
  },
  {
   "cell_type": "markdown",
   "id": "bcd9bc80",
   "metadata": {},
   "source": [
    "Then let's take a quick skim through the data set"
   ]
  },
  {
   "cell_type": "code",
   "execution_count": 10,
   "id": "95cda91a",
   "metadata": {},
   "outputs": [
    {
     "data": {
      "text/plain": [
       "(42000, 1031)"
      ]
     },
     "execution_count": 10,
     "metadata": {},
     "output_type": "execute_result"
    }
   ],
   "source": [
    "raw_dataset.shape"
   ]
  },
  {
   "cell_type": "markdown",
   "id": "0eb4977a",
   "metadata": {},
   "source": [
    "There are 42000 samples with 1031 columns.  \n",
    "What columns does it has?"
   ]
  },
  {
   "cell_type": "code",
   "execution_count": 12,
   "id": "036c8c25",
   "metadata": {},
   "outputs": [
    {
     "data": {
      "text/plain": [
       "Index(['NLOS', 'RANGE', 'FP_IDX', 'FP_AMP1', 'FP_AMP2', 'FP_AMP3',\n",
       "       'STDEV_NOISE', 'CIR_PWR', 'MAX_NOISE', 'RXPACC',\n",
       "       ...\n",
       "       'CIR1006', 'CIR1007', 'CIR1008', 'CIR1009', 'CIR1010', 'CIR1011',\n",
       "       'CIR1012', 'CIR1013', 'CIR1014', 'CIR1015'],\n",
       "      dtype='object', length=1031)"
      ]
     },
     "execution_count": 12,
     "metadata": {},
     "output_type": "execute_result"
    }
   ],
   "source": [
    "raw_dataset.columns # all the columns"
   ]
  },
  {
   "cell_type": "code",
   "execution_count": 16,
   "id": "6dd5a258",
   "metadata": {},
   "outputs": [
    {
     "data": {
      "text/plain": [
       "Index(['NLOS', 'RANGE', 'FP_IDX', 'FP_AMP1', 'FP_AMP2', 'FP_AMP3',\n",
       "       'STDEV_NOISE', 'CIR_PWR', 'MAX_NOISE', 'RXPACC', 'CH', 'FRAME_LEN',\n",
       "       'PREAM_LEN', 'BITRATE', 'PRFR', 'CIR0', 'CIR1', 'CIR2', 'CIR3', 'CIR4'],\n",
       "      dtype='object')"
      ]
     },
     "execution_count": 16,
     "metadata": {},
     "output_type": "execute_result"
    }
   ],
   "source": [
    "raw_dataset.columns[:20] # first 20 columns"
   ]
  },
  {
   "cell_type": "markdown",
   "id": "bde75d61",
   "metadata": {},
   "source": [
    "So, it has a NLOS column that indicates the sample is NLOS sample, measured range, ..., and extras.  \n",
    "But it's hard to know the details about the columns.  \n",
    "Please refer to https://github.com/ewine-project/UWB-LOS-NLOS-Data-Set to know more about the dataset [1].  \n",
    "\n",
    "In breif, the samples were gathered in 7 different indoor environments using DecaWave DWM1000 UWB radio module.  \n",
    "In each environment, 3000 LOS samples and 3000 NLOS samples were gathered, so there are 42000 samples.  \n",
    "\n",
    "Elements:  \n",
    "NLOS: 1 if NLOS, 0 if LOS  \n",
    "RANGE: Measured range  \n",
    "FP_IDX: Index of detected first path  \n",
    "FP_AMP1: Point 1 of the first path amplitude  \n",
    "FP_AMP2: Point 2 of the first path amplitude  \n",
    "FP_AMP3: Point 3 of the first path amplitude  \n",
    "STDEV_NOISE: Standard deviation of noise  \n",
    "CIR_PWR: Total channel impluse response (CIR) power  \n",
    "MAX_NOISE: Maximum value of noise  \n",
    "RXPACC: Received rx preamble symbols  \n",
    "CH: channel number  \n",
    "FRAME_LEN: Length of the frame  \n",
    "PREAM_LEN: Lenght of the preamble  \n",
    "BITRATE: Bit rate (Kbps?)  \n",
    "PRFR: Pulse repetition frequency rate in MHz  \n",
    "CIR[0~1025]:Absolute value of channel impulse response "
   ]
  },
  {
   "cell_type": "markdown",
   "id": "432a44ae",
   "metadata": {},
   "source": [
    "Let's take a look 5 samples from the raw dataset and check the values up to the PRFR columns (exclude CIR)"
   ]
  },
  {
   "cell_type": "code",
   "execution_count": 38,
   "id": "ada78b83",
   "metadata": {},
   "outputs": [
    {
     "data": {
      "text/html": [
       "<div>\n",
       "<style scoped>\n",
       "    .dataframe tbody tr th:only-of-type {\n",
       "        vertical-align: middle;\n",
       "    }\n",
       "\n",
       "    .dataframe tbody tr th {\n",
       "        vertical-align: top;\n",
       "    }\n",
       "\n",
       "    .dataframe thead th {\n",
       "        text-align: right;\n",
       "    }\n",
       "</style>\n",
       "<table border=\"1\" class=\"dataframe\">\n",
       "  <thead>\n",
       "    <tr style=\"text-align: right;\">\n",
       "      <th></th>\n",
       "      <th>NLOS</th>\n",
       "      <th>RANGE</th>\n",
       "      <th>FP_IDX</th>\n",
       "      <th>FP_AMP1</th>\n",
       "      <th>FP_AMP2</th>\n",
       "      <th>FP_AMP3</th>\n",
       "      <th>STDEV_NOISE</th>\n",
       "      <th>CIR_PWR</th>\n",
       "      <th>MAX_NOISE</th>\n",
       "      <th>RXPACC</th>\n",
       "      <th>CH</th>\n",
       "      <th>FRAME_LEN</th>\n",
       "      <th>PREAM_LEN</th>\n",
       "      <th>BITRATE</th>\n",
       "      <th>PRFR</th>\n",
       "    </tr>\n",
       "  </thead>\n",
       "  <tbody>\n",
       "    <tr>\n",
       "      <th>4677</th>\n",
       "      <td>1.0</td>\n",
       "      <td>5.54</td>\n",
       "      <td>747.0</td>\n",
       "      <td>935.0</td>\n",
       "      <td>3383.0</td>\n",
       "      <td>3804.0</td>\n",
       "      <td>72.0</td>\n",
       "      <td>1014.0</td>\n",
       "      <td>1087.0</td>\n",
       "      <td>1024.0</td>\n",
       "      <td>2.0</td>\n",
       "      <td>39.0</td>\n",
       "      <td>1024.0</td>\n",
       "      <td>110.0</td>\n",
       "      <td>64.0</td>\n",
       "    </tr>\n",
       "    <tr>\n",
       "      <th>3930</th>\n",
       "      <td>1.0</td>\n",
       "      <td>3.38</td>\n",
       "      <td>744.0</td>\n",
       "      <td>4036.0</td>\n",
       "      <td>4193.0</td>\n",
       "      <td>4191.0</td>\n",
       "      <td>80.0</td>\n",
       "      <td>3921.0</td>\n",
       "      <td>1185.0</td>\n",
       "      <td>1024.0</td>\n",
       "      <td>2.0</td>\n",
       "      <td>39.0</td>\n",
       "      <td>1024.0</td>\n",
       "      <td>110.0</td>\n",
       "      <td>64.0</td>\n",
       "    </tr>\n",
       "    <tr>\n",
       "      <th>1463</th>\n",
       "      <td>0.0</td>\n",
       "      <td>1.26</td>\n",
       "      <td>747.0</td>\n",
       "      <td>16804.0</td>\n",
       "      <td>18246.0</td>\n",
       "      <td>14356.0</td>\n",
       "      <td>68.0</td>\n",
       "      <td>10361.0</td>\n",
       "      <td>1748.0</td>\n",
       "      <td>272.0</td>\n",
       "      <td>2.0</td>\n",
       "      <td>39.0</td>\n",
       "      <td>1024.0</td>\n",
       "      <td>110.0</td>\n",
       "      <td>64.0</td>\n",
       "    </tr>\n",
       "    <tr>\n",
       "      <th>5579</th>\n",
       "      <td>0.0</td>\n",
       "      <td>0.96</td>\n",
       "      <td>748.0</td>\n",
       "      <td>17425.0</td>\n",
       "      <td>17411.0</td>\n",
       "      <td>14945.0</td>\n",
       "      <td>100.0</td>\n",
       "      <td>9426.0</td>\n",
       "      <td>2498.0</td>\n",
       "      <td>261.0</td>\n",
       "      <td>2.0</td>\n",
       "      <td>27.0</td>\n",
       "      <td>1024.0</td>\n",
       "      <td>110.0</td>\n",
       "      <td>64.0</td>\n",
       "    </tr>\n",
       "    <tr>\n",
       "      <th>902</th>\n",
       "      <td>1.0</td>\n",
       "      <td>2.33</td>\n",
       "      <td>748.0</td>\n",
       "      <td>6642.0</td>\n",
       "      <td>9475.0</td>\n",
       "      <td>11896.0</td>\n",
       "      <td>96.0</td>\n",
       "      <td>4695.0</td>\n",
       "      <td>1434.0</td>\n",
       "      <td>1024.0</td>\n",
       "      <td>2.0</td>\n",
       "      <td>39.0</td>\n",
       "      <td>1024.0</td>\n",
       "      <td>110.0</td>\n",
       "      <td>64.0</td>\n",
       "    </tr>\n",
       "  </tbody>\n",
       "</table>\n",
       "</div>"
      ],
      "text/plain": [
       "      NLOS  RANGE  FP_IDX  FP_AMP1  FP_AMP2  FP_AMP3  STDEV_NOISE  CIR_PWR  \\\n",
       "4677   1.0   5.54   747.0    935.0   3383.0   3804.0         72.0   1014.0   \n",
       "3930   1.0   3.38   744.0   4036.0   4193.0   4191.0         80.0   3921.0   \n",
       "1463   0.0   1.26   747.0  16804.0  18246.0  14356.0         68.0  10361.0   \n",
       "5579   0.0   0.96   748.0  17425.0  17411.0  14945.0        100.0   9426.0   \n",
       "902    1.0   2.33   748.0   6642.0   9475.0  11896.0         96.0   4695.0   \n",
       "\n",
       "      MAX_NOISE  RXPACC   CH  FRAME_LEN  PREAM_LEN  BITRATE  PRFR  \n",
       "4677     1087.0  1024.0  2.0       39.0     1024.0    110.0  64.0  \n",
       "3930     1185.0  1024.0  2.0       39.0     1024.0    110.0  64.0  \n",
       "1463     1748.0   272.0  2.0       39.0     1024.0    110.0  64.0  \n",
       "5579     2498.0   261.0  2.0       27.0     1024.0    110.0  64.0  \n",
       "902      1434.0  1024.0  2.0       39.0     1024.0    110.0  64.0  "
      ]
     },
     "execution_count": 38,
     "metadata": {},
     "output_type": "execute_result"
    }
   ],
   "source": [
    "import numpy as np\n",
    "np.random.seed(302) # setting random seed for the reproducibility\n",
    "\n",
    "raw_dataset.sample(5).iloc[:, :15]"
   ]
  },
  {
   "cell_type": "markdown",
   "id": "c83f3a52",
   "metadata": {},
   "source": [
    "We can check dataset's statistics easily by using pandas describe method"
   ]
  },
  {
   "cell_type": "code",
   "execution_count": 43,
   "id": "7c26bafe",
   "metadata": {},
   "outputs": [
    {
     "data": {
      "text/html": [
       "<div>\n",
       "<style scoped>\n",
       "    .dataframe tbody tr th:only-of-type {\n",
       "        vertical-align: middle;\n",
       "    }\n",
       "\n",
       "    .dataframe tbody tr th {\n",
       "        vertical-align: top;\n",
       "    }\n",
       "\n",
       "    .dataframe thead th {\n",
       "        text-align: right;\n",
       "    }\n",
       "</style>\n",
       "<table border=\"1\" class=\"dataframe\">\n",
       "  <thead>\n",
       "    <tr style=\"text-align: right;\">\n",
       "      <th></th>\n",
       "      <th>RANGE</th>\n",
       "      <th>FP_IDX</th>\n",
       "      <th>FP_AMP1</th>\n",
       "      <th>FP_AMP2</th>\n",
       "      <th>FP_AMP3</th>\n",
       "      <th>STDEV_NOISE</th>\n",
       "      <th>CIR_PWR</th>\n",
       "      <th>MAX_NOISE</th>\n",
       "      <th>RXPACC</th>\n",
       "      <th>CH</th>\n",
       "      <th>FRAME_LEN</th>\n",
       "      <th>PREAM_LEN</th>\n",
       "      <th>BITRATE</th>\n",
       "      <th>PRFR</th>\n",
       "    </tr>\n",
       "  </thead>\n",
       "  <tbody>\n",
       "    <tr>\n",
       "      <th>count</th>\n",
       "      <td>42000.000000</td>\n",
       "      <td>42000.000000</td>\n",
       "      <td>42000.000000</td>\n",
       "      <td>42000.000000</td>\n",
       "      <td>42000.000000</td>\n",
       "      <td>42000.000000</td>\n",
       "      <td>42000.000000</td>\n",
       "      <td>42000.000000</td>\n",
       "      <td>42000.00000</td>\n",
       "      <td>42000.0</td>\n",
       "      <td>42000.000000</td>\n",
       "      <td>42000.000000</td>\n",
       "      <td>42000.0</td>\n",
       "      <td>42000.0</td>\n",
       "    </tr>\n",
       "    <tr>\n",
       "      <th>mean</th>\n",
       "      <td>3.831519</td>\n",
       "      <td>745.654167</td>\n",
       "      <td>8127.521905</td>\n",
       "      <td>11425.259524</td>\n",
       "      <td>9738.106048</td>\n",
       "      <td>72.284571</td>\n",
       "      <td>9789.690214</td>\n",
       "      <td>1316.096524</td>\n",
       "      <td>616.27250</td>\n",
       "      <td>2.0</td>\n",
       "      <td>33.801762</td>\n",
       "      <td>1042.980571</td>\n",
       "      <td>110.0</td>\n",
       "      <td>64.0</td>\n",
       "    </tr>\n",
       "    <tr>\n",
       "      <th>std</th>\n",
       "      <td>2.355976</td>\n",
       "      <td>4.505024</td>\n",
       "      <td>5393.330697</td>\n",
       "      <td>6235.434769</td>\n",
       "      <td>5352.311549</td>\n",
       "      <td>29.318995</td>\n",
       "      <td>4912.556005</td>\n",
       "      <td>582.434989</td>\n",
       "      <td>306.78537</td>\n",
       "      <td>0.0</td>\n",
       "      <td>5.946221</td>\n",
       "      <td>96.736825</td>\n",
       "      <td>0.0</td>\n",
       "      <td>0.0</td>\n",
       "    </tr>\n",
       "    <tr>\n",
       "      <th>min</th>\n",
       "      <td>0.000000</td>\n",
       "      <td>707.000000</td>\n",
       "      <td>7.000000</td>\n",
       "      <td>63.000000</td>\n",
       "      <td>187.000000</td>\n",
       "      <td>28.000000</td>\n",
       "      <td>0.000000</td>\n",
       "      <td>310.000000</td>\n",
       "      <td>128.00000</td>\n",
       "      <td>2.0</td>\n",
       "      <td>27.000000</td>\n",
       "      <td>1024.000000</td>\n",
       "      <td>110.0</td>\n",
       "      <td>64.0</td>\n",
       "    </tr>\n",
       "    <tr>\n",
       "      <th>25%</th>\n",
       "      <td>1.810000</td>\n",
       "      <td>744.000000</td>\n",
       "      <td>3573.750000</td>\n",
       "      <td>5322.750000</td>\n",
       "      <td>4723.000000</td>\n",
       "      <td>56.000000</td>\n",
       "      <td>6727.000000</td>\n",
       "      <td>961.000000</td>\n",
       "      <td>318.00000</td>\n",
       "      <td>2.0</td>\n",
       "      <td>27.000000</td>\n",
       "      <td>1024.000000</td>\n",
       "      <td>110.0</td>\n",
       "      <td>64.0</td>\n",
       "    </tr>\n",
       "    <tr>\n",
       "      <th>50%</th>\n",
       "      <td>3.480000</td>\n",
       "      <td>746.000000</td>\n",
       "      <td>7140.000000</td>\n",
       "      <td>12318.000000</td>\n",
       "      <td>10262.000000</td>\n",
       "      <td>68.000000</td>\n",
       "      <td>9950.500000</td>\n",
       "      <td>1134.000000</td>\n",
       "      <td>513.00000</td>\n",
       "      <td>2.0</td>\n",
       "      <td>39.000000</td>\n",
       "      <td>1024.000000</td>\n",
       "      <td>110.0</td>\n",
       "      <td>64.0</td>\n",
       "    </tr>\n",
       "    <tr>\n",
       "      <th>75%</th>\n",
       "      <td>5.420000</td>\n",
       "      <td>748.000000</td>\n",
       "      <td>12273.000000</td>\n",
       "      <td>17310.000000</td>\n",
       "      <td>14256.000000</td>\n",
       "      <td>80.000000</td>\n",
       "      <td>12443.000000</td>\n",
       "      <td>1488.000000</td>\n",
       "      <td>1024.00000</td>\n",
       "      <td>2.0</td>\n",
       "      <td>39.000000</td>\n",
       "      <td>1024.000000</td>\n",
       "      <td>110.0</td>\n",
       "      <td>64.0</td>\n",
       "    </tr>\n",
       "    <tr>\n",
       "      <th>max</th>\n",
       "      <td>28.020000</td>\n",
       "      <td>848.000000</td>\n",
       "      <td>20572.000000</td>\n",
       "      <td>20624.000000</td>\n",
       "      <td>20577.000000</td>\n",
       "      <td>324.000000</td>\n",
       "      <td>37208.000000</td>\n",
       "      <td>5169.000000</td>\n",
       "      <td>1056.00000</td>\n",
       "      <td>2.0</td>\n",
       "      <td>39.000000</td>\n",
       "      <td>1536.000000</td>\n",
       "      <td>110.0</td>\n",
       "      <td>64.0</td>\n",
       "    </tr>\n",
       "  </tbody>\n",
       "</table>\n",
       "</div>"
      ],
      "text/plain": [
       "              RANGE        FP_IDX       FP_AMP1       FP_AMP2       FP_AMP3  \\\n",
       "count  42000.000000  42000.000000  42000.000000  42000.000000  42000.000000   \n",
       "mean       3.831519    745.654167   8127.521905  11425.259524   9738.106048   \n",
       "std        2.355976      4.505024   5393.330697   6235.434769   5352.311549   \n",
       "min        0.000000    707.000000      7.000000     63.000000    187.000000   \n",
       "25%        1.810000    744.000000   3573.750000   5322.750000   4723.000000   \n",
       "50%        3.480000    746.000000   7140.000000  12318.000000  10262.000000   \n",
       "75%        5.420000    748.000000  12273.000000  17310.000000  14256.000000   \n",
       "max       28.020000    848.000000  20572.000000  20624.000000  20577.000000   \n",
       "\n",
       "        STDEV_NOISE       CIR_PWR     MAX_NOISE       RXPACC       CH  \\\n",
       "count  42000.000000  42000.000000  42000.000000  42000.00000  42000.0   \n",
       "mean      72.284571   9789.690214   1316.096524    616.27250      2.0   \n",
       "std       29.318995   4912.556005    582.434989    306.78537      0.0   \n",
       "min       28.000000      0.000000    310.000000    128.00000      2.0   \n",
       "25%       56.000000   6727.000000    961.000000    318.00000      2.0   \n",
       "50%       68.000000   9950.500000   1134.000000    513.00000      2.0   \n",
       "75%       80.000000  12443.000000   1488.000000   1024.00000      2.0   \n",
       "max      324.000000  37208.000000   5169.000000   1056.00000      2.0   \n",
       "\n",
       "          FRAME_LEN     PREAM_LEN  BITRATE     PRFR  \n",
       "count  42000.000000  42000.000000  42000.0  42000.0  \n",
       "mean      33.801762   1042.980571    110.0     64.0  \n",
       "std        5.946221     96.736825      0.0      0.0  \n",
       "min       27.000000   1024.000000    110.0     64.0  \n",
       "25%       27.000000   1024.000000    110.0     64.0  \n",
       "50%       39.000000   1024.000000    110.0     64.0  \n",
       "75%       39.000000   1024.000000    110.0     64.0  \n",
       "max       39.000000   1536.000000    110.0     64.0  "
      ]
     },
     "execution_count": 43,
     "metadata": {},
     "output_type": "execute_result"
    }
   ],
   "source": [
    "raw_dataset.describe().iloc[:, 1:15]"
   ]
  },
  {
   "cell_type": "markdown",
   "id": "6727ae7d",
   "metadata": {},
   "source": [
    "It seems that FP_AMP2 is highset values among FP_AMP 1, 2, 3 and features about amplitude have high standard deviation.  \n",
    "Also, some features like CH and BITRATE seem useless, because all samples have same value of these features.    \n",
    "Interestingly, it seems like most of the FRAME_LEN and PREAM_LEN values are same while there seem to be a few exceptional values.  \n",
    "\n",
    "Let's examine how many unique values each feature has"
   ]
  },
  {
   "cell_type": "code",
   "execution_count": 47,
   "id": "c6bfec36",
   "metadata": {},
   "outputs": [
    {
     "data": {
      "text/plain": [
       "NLOS               2\n",
       "RANGE           1160\n",
       "FP_IDX            76\n",
       "FP_AMP1        16693\n",
       "FP_AMP2        16533\n",
       "FP_AMP3        16614\n",
       "STDEV_NOISE       75\n",
       "CIR_PWR        16591\n",
       "MAX_NOISE       3056\n",
       "RXPACC           725\n",
       "CH                 1\n",
       "FRAME_LEN          3\n",
       "PREAM_LEN          2\n",
       "BITRATE            1\n",
       "PRFR               1\n",
       "dtype: int64"
      ]
     },
     "execution_count": 47,
     "metadata": {},
     "output_type": "execute_result"
    }
   ],
   "source": [
    "raw_dataset.nunique()[:15]"
   ]
  },
  {
   "cell_type": "markdown",
   "id": "df6bc363",
   "metadata": {},
   "source": [
    "CH, BITRATE, and PRFR have only one unique value that we can drop these features from the dataset because they have no useful information  \n",
    "for distinguishing LOS/NLOS.  "
   ]
  },
  {
   "cell_type": "code",
   "execution_count": 50,
   "id": "98cffc74",
   "metadata": {},
   "outputs": [],
   "source": [
    "raw_dataset.drop(['CH', 'BITRATE', 'PRFR'], axis=1, inplace=True)"
   ]
  },
  {
   "cell_type": "code",
   "execution_count": 56,
   "id": "9b5e673e",
   "metadata": {},
   "outputs": [
    {
     "data": {
      "text/plain": [
       "Index(['NLOS', 'RANGE', 'FP_IDX', 'FP_AMP1', 'FP_AMP2', 'FP_AMP3',\n",
       "       'STDEV_NOISE', 'CIR_PWR', 'MAX_NOISE', 'RXPACC', 'FRAME_LEN',\n",
       "       'PREAM_LEN', 'CIR0', 'CIR1', 'CIR2'],\n",
       "      dtype='object')"
      ]
     },
     "execution_count": 56,
     "metadata": {},
     "output_type": "execute_result"
    }
   ],
   "source": [
    "raw_dataset.columns[:15] # we can see there are no CH, BITRATE, and PRFR in the dataset anymore"
   ]
  },
  {
   "cell_type": "markdown",
   "id": "908d6324",
   "metadata": {},
   "source": [
    "Besides, we can see that min value of the CIR_PWR is 0 but it looks like outlier or fault value."
   ]
  },
  {
   "cell_type": "code",
   "execution_count": 128,
   "id": "737ae4b2",
   "metadata": {},
   "outputs": [
    {
     "data": {
      "text/html": [
       "<div>\n",
       "<style scoped>\n",
       "    .dataframe tbody tr th:only-of-type {\n",
       "        vertical-align: middle;\n",
       "    }\n",
       "\n",
       "    .dataframe tbody tr th {\n",
       "        vertical-align: top;\n",
       "    }\n",
       "\n",
       "    .dataframe thead th {\n",
       "        text-align: right;\n",
       "    }\n",
       "</style>\n",
       "<table border=\"1\" class=\"dataframe\">\n",
       "  <thead>\n",
       "    <tr style=\"text-align: right;\">\n",
       "      <th></th>\n",
       "      <th>NLOS</th>\n",
       "      <th>RANGE</th>\n",
       "      <th>FP_IDX</th>\n",
       "      <th>FP_AMP1</th>\n",
       "      <th>FP_AMP2</th>\n",
       "      <th>FP_AMP3</th>\n",
       "      <th>STDEV_NOISE</th>\n",
       "      <th>CIR_PWR</th>\n",
       "      <th>MAX_NOISE</th>\n",
       "      <th>RXPACC</th>\n",
       "      <th>...</th>\n",
       "      <th>CIR1006</th>\n",
       "      <th>CIR1007</th>\n",
       "      <th>CIR1008</th>\n",
       "      <th>CIR1009</th>\n",
       "      <th>CIR1010</th>\n",
       "      <th>CIR1011</th>\n",
       "      <th>CIR1012</th>\n",
       "      <th>CIR1013</th>\n",
       "      <th>CIR1014</th>\n",
       "      <th>CIR1015</th>\n",
       "    </tr>\n",
       "  </thead>\n",
       "  <tbody>\n",
       "    <tr>\n",
       "      <th>1356</th>\n",
       "      <td>1.0</td>\n",
       "      <td>6.33</td>\n",
       "      <td>747.0</td>\n",
       "      <td>293.0</td>\n",
       "      <td>311.0</td>\n",
       "      <td>187.0</td>\n",
       "      <td>28.0</td>\n",
       "      <td>0.0</td>\n",
       "      <td>310.0</td>\n",
       "      <td>160.0</td>\n",
       "      <td>...</td>\n",
       "      <td>197.0</td>\n",
       "      <td>84.0</td>\n",
       "      <td>246.0</td>\n",
       "      <td>353.0</td>\n",
       "      <td>196.0</td>\n",
       "      <td>38.0</td>\n",
       "      <td>228.0</td>\n",
       "      <td>42.0</td>\n",
       "      <td>173.0</td>\n",
       "      <td>0.0</td>\n",
       "    </tr>\n",
       "    <tr>\n",
       "      <th>4343</th>\n",
       "      <td>1.0</td>\n",
       "      <td>7.02</td>\n",
       "      <td>757.0</td>\n",
       "      <td>30.0</td>\n",
       "      <td>214.0</td>\n",
       "      <td>413.0</td>\n",
       "      <td>36.0</td>\n",
       "      <td>0.0</td>\n",
       "      <td>412.0</td>\n",
       "      <td>192.0</td>\n",
       "      <td>...</td>\n",
       "      <td>252.0</td>\n",
       "      <td>271.0</td>\n",
       "      <td>190.0</td>\n",
       "      <td>292.0</td>\n",
       "      <td>271.0</td>\n",
       "      <td>239.0</td>\n",
       "      <td>210.0</td>\n",
       "      <td>260.0</td>\n",
       "      <td>223.0</td>\n",
       "      <td>256.0</td>\n",
       "    </tr>\n",
       "    <tr>\n",
       "      <th>837</th>\n",
       "      <td>1.0</td>\n",
       "      <td>4.88</td>\n",
       "      <td>739.0</td>\n",
       "      <td>112.0</td>\n",
       "      <td>323.0</td>\n",
       "      <td>227.0</td>\n",
       "      <td>40.0</td>\n",
       "      <td>0.0</td>\n",
       "      <td>322.0</td>\n",
       "      <td>128.0</td>\n",
       "      <td>...</td>\n",
       "      <td>161.0</td>\n",
       "      <td>219.0</td>\n",
       "      <td>295.0</td>\n",
       "      <td>242.0</td>\n",
       "      <td>279.0</td>\n",
       "      <td>67.0</td>\n",
       "      <td>153.0</td>\n",
       "      <td>177.0</td>\n",
       "      <td>159.0</td>\n",
       "      <td>0.0</td>\n",
       "    </tr>\n",
       "  </tbody>\n",
       "</table>\n",
       "<p>3 rows × 1028 columns</p>\n",
       "</div>"
      ],
      "text/plain": [
       "      NLOS  RANGE  FP_IDX  FP_AMP1  FP_AMP2  FP_AMP3  STDEV_NOISE  CIR_PWR  \\\n",
       "1356   1.0   6.33   747.0    293.0    311.0    187.0         28.0      0.0   \n",
       "4343   1.0   7.02   757.0     30.0    214.0    413.0         36.0      0.0   \n",
       "837    1.0   4.88   739.0    112.0    323.0    227.0         40.0      0.0   \n",
       "\n",
       "      MAX_NOISE  RXPACC  ...  CIR1006  CIR1007  CIR1008  CIR1009  CIR1010  \\\n",
       "1356      310.0   160.0  ...    197.0     84.0    246.0    353.0    196.0   \n",
       "4343      412.0   192.0  ...    252.0    271.0    190.0    292.0    271.0   \n",
       "837       322.0   128.0  ...    161.0    219.0    295.0    242.0    279.0   \n",
       "\n",
       "      CIR1011  CIR1012  CIR1013  CIR1014  CIR1015  \n",
       "1356     38.0    228.0     42.0    173.0      0.0  \n",
       "4343    239.0    210.0    260.0    223.0    256.0  \n",
       "837      67.0    153.0    177.0    159.0      0.0  \n",
       "\n",
       "[3 rows x 1028 columns]"
      ]
     },
     "execution_count": 128,
     "metadata": {},
     "output_type": "execute_result"
    }
   ],
   "source": [
    "raw_dataset[raw_dataset['CIR_PWR']==0]"
   ]
  },
  {
   "cell_type": "markdown",
   "id": "78b4837c",
   "metadata": {},
   "source": [
    "Above result shows that the samples which have 0 CIR_PWR are NLOS.  \n",
    "We can drop these samples from the dataset, but leave it now for a while for the future analysis.\n",
    "\n",
    "Let's dive deep into the other features later in the chapter data analysis."
   ]
  },
  {
   "cell_type": "markdown",
   "id": "47070c51",
   "metadata": {},
   "source": [
    "### 2. Baseline"
   ]
  },
  {
   "cell_type": "markdown",
   "id": "e6c83620",
   "metadata": {},
   "source": [
    "Let's reproduce baseline machine learning model and features in the paper:     \n",
    "*Ferreira, André G., et al. \"Feature selection for real-time NLOS identification and mitigation   \n",
    "for body-mounted UWB transceivers.\" IEEE Transactions on Instrumentation and Measurement 70 (2021): 1-10*  [2].\n",
    "\n",
    "With the baseline, it is easy to compare how new models or features help improve performance.  "
   ]
  },
  {
   "cell_type": "markdown",
   "id": "2e572409",
   "metadata": {},
   "source": [
    "The work in [2] use 14 features for the LOS/NLOS classification.  \n",
    "We can also find 9 features in the dataset [1], but we need to add 5 more features.  \n",
    "We will just implement 5 features in here without explanation, please refer to [2] who interested about features."
   ]
  },
  {
   "cell_type": "code",
   "execution_count": 130,
   "id": "eb92dca4",
   "metadata": {},
   "outputs": [],
   "source": [
    "const_A = 121.74\n",
    "\n",
    "dataset = raw_dataset.copy() # copy raw dataset\n",
    "\n",
    "# estimated received signal strength\n",
    "dataset['PWR_RSS'] =  10.0 * np.log10(1+ dataset['CIR_PWR']*pow(2,17) / pow(dataset['RXPACC'], 2)) - const_A \n",
    "# estimated received power of the first path impulse\n",
    "dataset['PWR_FP'] = 10.0 * np.log10(1+ (pow(dataset['FP_AMP1'], 2) + pow(dataset['FP_AMP1'], 2) + pow(dataset['FP_AMP1'], 2))\n",
    "                                    / pow(dataset['RXPACC'], 2)) - const_A\n",
    "# ratio of Maximum noise and first path power\n",
    "dataset['RAT_MN_FP'] = dataset['MAX_NOISE'] / dataset['FP_AMP2']\n",
    "# power difference between the estimated RSS and estimated power of the first path\n",
    "dataset['PWR_DIFF'] = dataset['PWR_RSS'] - dataset['PWR_FP']\n",
    "# power ratio between the estimated power of the first path and estimated RSS\n",
    "dataset['PWR_RAT'] = dataset['PWR_FP'] / dataset['PWR_RSS']"
   ]
  },
  {
   "cell_type": "markdown",
   "id": "6cab891e",
   "metadata": {},
   "source": [
    "Next, we will set NLOS column as a target (y) and pull out 14 baseline features from the dataset and split the dataset into train and test data."
   ]
  },
  {
   "cell_type": "code",
   "execution_count": 138,
   "id": "45539ad3",
   "metadata": {},
   "outputs": [],
   "source": [
    "from sklearn.model_selection import train_test_split\n",
    "\n",
    "baseline_features_14 = ['RANGE', 'FP_AMP1', 'FP_AMP2', 'FP_AMP3', 'STDEV_NOISE',\n",
    "                        'CIR_PWR', 'RXPACC', 'MAX_NOISE', 'FP_IDX',\n",
    "                        'PWR_RSS', 'PWR_FP', 'RAT_MN_FP', 'PWR_DIFF', 'PWR_RAT']\n",
    "\n",
    "y = dataset['NLOS']\n",
    "X = dataset[baseline_features_14]\n",
    "\n",
    "train_X, test_X, train_y, test_y = train_test_split(X, y, test_size=0.2, random_state=302)"
   ]
  },
  {
   "cell_type": "code",
   "execution_count": 139,
   "id": "43151cc1",
   "metadata": {},
   "outputs": [
    {
     "name": "stdout",
     "output_type": "stream",
     "text": [
      "(33600, 14) (33600,) (8400, 14) (8400,)\n"
     ]
    }
   ],
   "source": [
    "print(train_X.shape, train_y.shape, test_X.shape, test_y.shape)"
   ]
  },
  {
   "cell_type": "markdown",
   "id": "72ff27be",
   "metadata": {},
   "source": [
    "Then, let's bulid a random forest classifier model which shows highest f1_score in [2].  \n",
    "We train the model with the training samples and predict test samples' LOS/NLOS with the trained model."
   ]
  },
  {
   "cell_type": "code",
   "execution_count": 144,
   "id": "eb4b3c26",
   "metadata": {},
   "outputs": [],
   "source": [
    "from sklearn.ensemble import RandomForestClassifier\n",
    "\n",
    "# same hyperparameters with [2] and set random_state for the reproducibility\n",
    "baseline14_model = RandomForestClassifier(n_estimators=30, random_state=302)\n",
    "# training\n",
    "baseline14_model.fit(train_X, train_y)\n",
    "# predicts LOS/NLOS using test samples\n",
    "pred_y = baseline14_model.predict(test_X)"
   ]
  },
  {
   "cell_type": "markdown",
   "id": "c178153b",
   "metadata": {},
   "source": [
    "Then let's see f1_score of the baseline model with 14 features."
   ]
  },
  {
   "cell_type": "code",
   "execution_count": 145,
   "id": "7384e955",
   "metadata": {},
   "outputs": [
    {
     "name": "stdout",
     "output_type": "stream",
     "text": [
      "0.9077669902912622\n"
     ]
    }
   ],
   "source": [
    "from sklearn.metrics import f1_score\n",
    "baseline14_score = f1_score(test_y, pred_y)\n",
    "\n",
    "print(baseline14_score)"
   ]
  },
  {
   "cell_type": "markdown",
   "id": "86b03f14",
   "metadata": {},
   "source": [
    "In [2], baseline model shows 0.97 f1 score but the result above shows about 0.9 f1 score.  \n",
    "I think this performance degradation comes from the various enviromental setting.  \n",
    "Because dataset [1] collected from 7 indoor environments while dataset in [2] collected from the same environment."
   ]
  },
  {
   "cell_type": "markdown",
   "id": "377adf5e",
   "metadata": {},
   "source": [
    "In addition, [2] showed that random forest classifier model which trained with the 4 features ('PWR_DIFF', 'FP_IDX', 'PWR_FP', 'FP_AMP2') achieves   \n",
    "similar f1_score (0.97) with the model trained with the 14 features.  \n",
    "So let's test again with the model which trained with the 4 features."
   ]
  },
  {
   "cell_type": "code",
   "execution_count": 147,
   "id": "609c496d",
   "metadata": {},
   "outputs": [
    {
     "name": "stdout",
     "output_type": "stream",
     "text": [
      "baseline 4 f1 score: 0.8418316831683167\n",
      "baseline 14 f1 score: 0.9077669902912622\n"
     ]
    }
   ],
   "source": [
    "baseline_features_4 = ['PWR_DIFF', 'FP_IDX', 'PWR_FP', 'FP_AMP2']\n",
    "\n",
    "y = dataset['NLOS']\n",
    "X = dataset[baseline_features_4]\n",
    "train_X, test_X, train_y, test_y = train_test_split(X, y, test_size=0.2, random_state=302)\n",
    "\n",
    "baseline4_model = RandomForestClassifier(n_estimators=30, random_state=302)\n",
    "baseline4_model.fit(train_X, train_y)\n",
    "pred_y = baseline4_model.predict(test_X)\n",
    "baseline4_score = f1_score(test_y, pred_y)\n",
    "\n",
    "print('baseline 4 f1 score:', baseline4_score)\n",
    "print('baseline 14 f1 score:', baseline14_score)"
   ]
  },
  {
   "cell_type": "markdown",
   "id": "0a196e41",
   "metadata": {},
   "source": [
    "In [2], where the dataset collected from the same environments, the performance of those two models are almost same.  \n",
    "But, above result indicates that the 4 useful features are not enough to distinguishing LOS/NLOS in different environments scenarios. "
   ]
  },
  {
   "cell_type": "markdown",
   "id": "83062ea4",
   "metadata": {},
   "source": [
    "### 3. Data analysis"
   ]
  },
  {
   "cell_type": "markdown",
   "id": "5d57bd5e",
   "metadata": {},
   "source": [
    "In the last section, baseline model showed reasonable performance (0.907 f1 score) with 14 features.  \n",
    "But how can we know which features are informative and which ones hinder training?  "
   ]
  },
  {
   "cell_type": "markdown",
   "id": "e01ae7f4",
   "metadata": {},
   "source": [
    "#### 3-1. Correlation"
   ]
  },
  {
   "cell_type": "markdown",
   "id": "87749920",
   "metadata": {},
   "source": [
    "One of the simplest things is check correlation which shows linear relationship among features.  \n",
    "We can easily check the correlation using pandas corr method.  \n",
    "Let's analysis all the available features except CIR [0-1025] features."
   ]
  },
  {
   "cell_type": "code",
   "execution_count": 157,
   "id": "f6cba43b",
   "metadata": {},
   "outputs": [],
   "source": [
    "# 17 features and 1 target \n",
    "features_with_target = ['RANGE', 'FP_IDX', 'FP_AMP1', 'FP_AMP2', 'FP_AMP3',\n",
    "                        'STDEV_NOISE', 'CIR_PWR', 'MAX_NOISE', 'RXPACC', 'FRAME_LEN',\n",
    "                        'PREAM_LEN', 'PWR_RSS', 'PWR_FP', 'RAT_MN_FP', 'PWR_DIFF', 'PWR_RAT', \n",
    "                        'NLOS']\n",
    "my_dataset = dataset[features_with_target]"
   ]
  },
  {
   "cell_type": "markdown",
   "id": "ec81527a",
   "metadata": {},
   "source": [
    "First, let's examine which feature is most correlated with the LOS, NLOS"
   ]
  },
  {
   "cell_type": "code",
   "execution_count": 165,
   "id": "25cc86a9",
   "metadata": {},
   "outputs": [
    {
     "data": {
      "text/plain": [
       "NLOS           1.000000\n",
       "RXPACC         0.730690\n",
       "RANGE          0.456845\n",
       "RAT_MN_FP      0.272795\n",
       "PWR_DIFF       0.255453\n",
       "PREAM_LEN      0.189658\n",
       "PWR_RAT        0.183870\n",
       "STDEV_NOISE    0.152291\n",
       "FRAME_LEN      0.034316\n",
       "MAX_NOISE     -0.198198\n",
       "FP_IDX        -0.316978\n",
       "CIR_PWR       -0.392303\n",
       "FP_AMP1       -0.447279\n",
       "FP_AMP3       -0.514339\n",
       "FP_AMP2       -0.524905\n",
       "PWR_FP        -0.608943\n",
       "PWR_RSS       -0.712536\n",
       "Name: NLOS, dtype: float64"
      ]
     },
     "execution_count": 165,
     "metadata": {},
     "output_type": "execute_result"
    }
   ],
   "source": [
    "my_dataset.corr()['NLOS'].sort_values(ascending=False)"
   ]
  },
  {
   "cell_type": "markdown",
   "id": "71716a54",
   "metadata": {},
   "source": [
    "It seems like features about power are important indicators of the NLOS.  \n",
    "It shows that samples with low power tends to be NLOS sample.  \n",
    "Futhermore, NLOS samples have many received rx preamble symbols.  \n",
    "The code below sort correlation values with absolute values.  "
   ]
  },
  {
   "cell_type": "code",
   "execution_count": 164,
   "id": "1b5acdd9",
   "metadata": {},
   "outputs": [
    {
     "data": {
      "text/plain": [
       "NLOS           1.000000\n",
       "RXPACC         0.730690\n",
       "PWR_RSS        0.712536\n",
       "PWR_FP         0.608943\n",
       "FP_AMP2        0.524905\n",
       "FP_AMP3        0.514339\n",
       "RANGE          0.456845\n",
       "FP_AMP1        0.447279\n",
       "CIR_PWR        0.392303\n",
       "FP_IDX         0.316978\n",
       "RAT_MN_FP      0.272795\n",
       "PWR_DIFF       0.255453\n",
       "MAX_NOISE      0.198198\n",
       "PREAM_LEN      0.189658\n",
       "PWR_RAT        0.183870\n",
       "STDEV_NOISE    0.152291\n",
       "FRAME_LEN      0.034316\n",
       "Name: NLOS, dtype: float64"
      ]
     },
     "execution_count": 164,
     "metadata": {},
     "output_type": "execute_result"
    }
   ],
   "source": [
    "abs(my_dataset.corr()['NLOS']).sort_values(ascending=False)"
   ]
  },
  {
   "cell_type": "markdown",
   "id": "f8d246ef",
   "metadata": {},
   "source": [
    "We can also make a fancy correlation figure with seaborns and matplotlib libraries."
   ]
  },
  {
   "cell_type": "code",
   "execution_count": 183,
   "id": "65b80f9c",
   "metadata": {},
   "outputs": [
    {
     "data": {
      "text/plain": [
       "<AxesSubplot:>"
      ]
     },
     "execution_count": 183,
     "metadata": {},
     "output_type": "execute_result"
    },
    {
     "data": {
      "image/png": "[encoded data removed]",
      "text/plain": [
       "<Figure size 1400x1100 with 2 Axes>"
      ]
     },
     "metadata": {},
     "output_type": "display_data"
    }
   ],
   "source": [
    "import seaborn as sns\n",
    "import matplotlib.pyplot as plt\n",
    "\n",
    "# mask is optional for removes upper triangle of the plot\n",
    "mask = np.zeros_like(my_dataset.drop('NLOS', axis=1).corr())\n",
    "mask[np.triu_indices_from(mask)] = True\n",
    "\n",
    "plt.subplots(figsize=(14, 11))\n",
    "sns.heatmap(my_dataset.drop('NLOS', axis=1).corr(),\n",
    "            annot=True,\n",
    "            fmt='.2f',\n",
    "            cmap='RdBu',\n",
    "            mask=mask)"
   ]
  },
  {
   "cell_type": "code",
   "execution_count": null,
   "id": "fc018fed",
   "metadata": {},
   "outputs": [],
   "source": []
  }
 ],
 "metadata": {
  "kernelspec": {
   "display_name": "Python 3.7.0 ('py37tf26')",
   "language": "python",
   "name": "python3"
  },
  "language_info": {
   "codemirror_mode": {
    "name": "ipython",
    "version": 3
   },
   "file_extension": ".py",
   "mimetype": "text/x-python",
   "name": "python",
   "nbconvert_exporter": "python",
   "pygments_lexer": "ipython3",
   "version": "3.7.0"
  },
  "vscode": {
   "interpreter": {
    "hash": "61a4f500e7ec5f7014ea4e00ee932b24da946ecd0eeccb4bec8e26ec391c4ccd"
   }
  }
 },
 "nbformat": 4,
 "nbformat_minor": 5
}
